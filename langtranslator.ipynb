{
  "cells": [
    {
      "cell_type": "markdown",
      "metadata": {},
      "source": [
        "## Language Translation Tool"
      ]
    },
    {
      "cell_type": "markdown",
      "metadata": {
        "id": "_0q6yGTDY0ly"
      },
      "source": [
        " Develop a simple language translation tool that\n",
        " translates text from one language to another. Use\n",
        " machine translation techniques and pre-trained\n",
        " models like Google Translate API or Microsoft\n",
        " Translator API to translate text"
      ]
    },
    {
      "cell_type": "code",
      "execution_count": 3,
      "metadata": {
        "colab": {
          "base_uri": "https://localhost:8080/"
        },
        "id": "KPUkx261Y0lz",
        "outputId": "7afcb495-e6f9-4699-d191-fbaa4995c91b"
      },
      "outputs": [
        {
          "name": "stdout",
          "output_type": "stream",
          "text": [
            "Requirement already satisfied: langdetect in c:\\users\\aizaa\\anaconda3\\lib\\site-packages (1.0.9)\n",
            "Requirement already satisfied: six in c:\\users\\aizaa\\anaconda3\\lib\\site-packages (from langdetect) (1.16.0)\n"
          ]
        }
      ],
      "source": [
        "#for language detection\n",
        "!pip install langdetect"
      ]
    },
    {
      "cell_type": "code",
      "execution_count": 4,
      "metadata": {
        "colab": {
          "base_uri": "https://localhost:8080/"
        },
        "id": "mLFmTvYtciEk",
        "outputId": "f41fc64b-c56c-4dc7-e652-941e32222d4a"
      },
      "outputs": [
        {
          "name": "stdout",
          "output_type": "stream",
          "text": [
            "Requirement already satisfied: easygoogletranslate in c:\\users\\aizaa\\anaconda3\\lib\\site-packages (0.0.4)\n",
            "Requirement already satisfied: requests>=2.26.0 in c:\\users\\aizaa\\anaconda3\\lib\\site-packages (from easygoogletranslate) (2.31.0)\n",
            "Requirement already satisfied: charset-normalizer<4,>=2 in c:\\users\\aizaa\\anaconda3\\lib\\site-packages (from requests>=2.26.0->easygoogletranslate) (2.0.4)\n",
            "Requirement already satisfied: idna<4,>=2.5 in c:\\users\\aizaa\\anaconda3\\lib\\site-packages (from requests>=2.26.0->easygoogletranslate) (2.10)\n",
            "Requirement already satisfied: urllib3<3,>=1.21.1 in c:\\users\\aizaa\\anaconda3\\lib\\site-packages (from requests>=2.26.0->easygoogletranslate) (2.0.7)\n",
            "Requirement already satisfied: certifi>=2017.4.17 in c:\\users\\aizaa\\anaconda3\\lib\\site-packages (from requests>=2.26.0->easygoogletranslate) (2024.6.2)\n"
          ]
        }
      ],
      "source": [
        "# for language translation\n",
        "!pip install easygoogletranslate"
      ]
    },
    {
      "cell_type": "markdown",
      "metadata": {},
      "source": [
        "#### Import Libraries"
      ]
    },
    {
      "cell_type": "code",
      "execution_count": 5,
      "metadata": {
        "id": "WimCwbYzY0l1"
      },
      "outputs": [],
      "source": [
        "import pandas as pd\n",
        "import numpy as np\n",
        "import langdetect\n",
        "from langdetect import detect\n",
        "from easygoogletranslate import EasyGoogleTranslate\n",
        "import tkinter as tk\n",
        "from tkinter import *\n",
        "from tkinter import ttk\n",
        "import tkinter.messagebox\n",
        "\n"
      ]
    },
    {
      "cell_type": "markdown",
      "metadata": {},
      "source": [
        "* Test the easygoogletranslation tool by the given example"
      ]
    },
    {
      "cell_type": "code",
      "execution_count": 6,
      "metadata": {
        "colab": {
          "base_uri": "https://localhost:8080/"
        },
        "id": "KtTr3mLSc1mQ",
        "outputId": "1d896cfa-6c8c-4338-ebf9-8cf8bd77a989"
      },
      "outputs": [
        {
          "name": "stdout",
          "output_type": "stream",
          "text": [
            "Dies ist ein Beispiel.\n"
          ]
        }
      ],
      "source": [
        "from easygoogletranslate import EasyGoogleTranslate\n",
        "\n",
        "translator = EasyGoogleTranslate(\n",
        "    source_language='en',\n",
        "    target_language='de',\n",
        "    timeout=10\n",
        ")\n",
        "result = translator.translate('This is an example.')\n",
        "\n",
        "print(result)\n",
        "# Output: Dies ist ein Beispiel."
      ]
    },
    {
      "cell_type": "markdown",
      "metadata": {
        "id": "0ET8aGArY0l2"
      },
      "source": [
        "* Testing the Language Detection tool"
      ]
    },
    {
      "cell_type": "code",
      "execution_count": 7,
      "metadata": {
        "colab": {
          "base_uri": "https://localhost:8080/"
        },
        "id": "7jdsLvCmY0l2",
        "outputId": "195bef15-0e7f-4fb7-ccb3-e9dbbf71a078"
      },
      "outputs": [
        {
          "name": "stdout",
          "output_type": "stream",
          "text": [
            "en\n",
            "it\n",
            "ur\n",
            "ja\n"
          ]
        }
      ],
      "source": [
        "testereng = \"who are you?\"\n",
        "testeritalian = \"come stai?\"\n",
        "testerurdu = \"تم کون ہو؟\"\n",
        "testerjap = \"あなたは誰ですか？\"\n",
        "\n",
        "print(langdetect.detect(testereng))\n",
        "print(langdetect.detect(testeritalian))\n",
        "print(langdetect.detect(testerurdu))\n",
        "print(langdetect.detect(testerjap))\n"
      ]
    },
    {
      "cell_type": "markdown",
      "metadata": {
        "id": "nqe9wKwYa4Zu"
      },
      "source": [
        "* Printing all the supported Languages"
      ]
    },
    {
      "cell_type": "code",
      "execution_count": 8,
      "metadata": {
        "colab": {
          "base_uri": "https://localhost:8080/"
        },
        "id": "voIgHCXtZ37R",
        "outputId": "1a0e9712-7b30-4e93-ece2-58a757ef7227"
      },
      "outputs": [
        {
          "name": "stdout",
          "output_type": "stream",
          "text": [
            "Language options:af, ar, bg, bn, ca, cs, cy, da, de, el, en, es, et, fa, fi, fr, gu, he, hi, hr, hu, id, it, ja, kn, ko, lt, lv, mk, ml, mr, ne, nl, no, pa, pl, pt, ro, ru, sk, sl, so, sq, sv, sw, ta, te, th, tl, tr, uk, ur, vi, zh-cn, zh-tw\n"
          ]
        }
      ],
      "source": [
        "print(\"Language options:af, ar, bg, bn, ca, cs, cy, da, de, el, en, es, et, fa, fi, fr, gu, he, hi, hr, hu, id, it, ja, kn, ko, lt, lv, mk, ml, mr, ne, nl, no, pa, pl, pt, ro, ru, sk, sl, so, sq, sv, sw, ta, te, th, tl, tr, uk, ur, vi, zh-cn, zh-tw\")"
      ]
    },
    {
      "cell_type": "markdown",
      "metadata": {
        "id": "lWOR-sLia5_W"
      },
      "source": [
        "#### Language Translation without GUI"
      ]
    },
    {
      "cell_type": "code",
      "execution_count": 9,
      "metadata": {
        "colab": {
          "base_uri": "https://localhost:8080/"
        },
        "id": "Zh-qyU2AZPZw",
        "outputId": "8d039c82-ea23-4ea4-8bb6-e47a8767b3ab"
      },
      "outputs": [],
      "source": [
        "# Input the sentence you want to translate\n",
        "sent = input(\"Enter a sentence: \")\n",
        "print(\"Sentence to be Translated: \",sent)"
      ]
    },
    {
      "cell_type": "code",
      "execution_count": 10,
      "metadata": {
        "colab": {
          "base_uri": "https://localhost:8080/"
        },
        "id": "Io1lYbmHf2y_",
        "outputId": "c28db4be-2c45-4a8a-f201-92f580f65ac7"
      },
      "outputs": [
        {
          "name": "stdout",
          "output_type": "stream",
          "text": [
            "en\n"
          ]
        }
      ],
      "source": [
        "# Detect the language of the sentence\n",
        "sentlang = langdetect.detect(sent)\n",
        "print(sentlang)"
      ]
    },
    {
      "cell_type": "code",
      "execution_count": 11,
      "metadata": {
        "colab": {
          "base_uri": "https://localhost:8080/"
        },
        "id": "rQkhFX_dY0l2",
        "outputId": "8924b777-0d64-4e00-8277-46a803f72d7f"
      },
      "outputs": [],
      "source": [
        "# Enter the Language you want the sentence to be translated into\n",
        "outputlang = input(\"Enter the output language from list above: \")"
      ]
    },
    {
      "cell_type": "code",
      "execution_count": 12,
      "metadata": {
        "colab": {
          "base_uri": "https://localhost:8080/"
        },
        "id": "KWUAvZHBY0l3",
        "outputId": "b72088e7-fb1a-46bf-fc91-0816e47eebd4"
      },
      "outputs": [
        {
          "name": "stdout",
          "output_type": "stream",
          "text": [
            "ہائے میں بازار جا رہا ہوں۔\n"
          ]
        }
      ],
      "source": [
        "# Translator Function\n",
        "translator = EasyGoogleTranslate(\n",
        "    source_language=sentlang,\n",
        "    target_language=outputlang,\n",
        "    timeout=10\n",
        ")\n",
        "result = translator.translate(sent)\n",
        "\n",
        "print(result)"
      ]
    },
    {
      "cell_type": "code",
      "execution_count": 13,
      "metadata": {
        "id": "I8dd1o1PY0l3"
      },
      "outputs": [],
      "source": [
        "# Functions for Language Translator\n",
        "def translator(sent,sentlang,outputlang):\n",
        "    translator = EasyGoogleTranslate(\n",
        "      source_language=sentlang,\n",
        "      target_language=outputlang,\n",
        "      timeout=10\n",
        "    )\n",
        "    result = translator.translate(sent)\n",
        "    return result\n",
        "def detectlang(sent):\n",
        "    return langdetect.detect(sent)"
      ]
    },
    {
      "cell_type": "markdown",
      "metadata": {},
      "source": [
        "### GUI Based Language Translator"
      ]
    },
    {
      "cell_type": "markdown",
      "metadata": {},
      "source": [
        "#### Using Tkinter to make the GUI Interface and making the use of the translator more easier"
      ]
    },
    {
      "cell_type": "code",
      "execution_count": 17,
      "metadata": {
        "id": "cEHmh8WkY0l3"
      },
      "outputs": [],
      "source": [
        "# Functions for Language Translator\n",
        "def detect_language():\n",
        "    sentence = input_text.get(\"1.0\", tk.END).strip()\n",
        "    if sentence:\n",
        "        try:\n",
        "            language = detect(sentence)\n",
        "            detected_lang.set(language)\n",
        "        except:\n",
        "            tkinter.messagebox.showerror(\"Error\", \"Could not detect language.\")\n",
        "    else:\n",
        "        tkinter.messagebox.showwarning(\"Warning\", \"Please enter a sentence.\")\n",
        "\n",
        "def translate_text():\n",
        "    sentence = input_text.get(\"1.0\", tk.END).strip()\n",
        "    output_language = output_lang.get().strip()\n",
        "    if sentence and output_language:\n",
        "        try:\n",
        "            source_language = detect(sentence)\n",
        "            translator = EasyGoogleTranslate(\n",
        "                source_language=source_language,\n",
        "                target_language=output_language,\n",
        "                timeout=10\n",
        "            )\n",
        "            translation = translator.translate(sentence)\n",
        "            output_text.set(translation)\n",
        "        except Exception as e:\n",
        "            tkinter.messagebox.showerror(\"Error\", str(e))\n",
        "    else:\n",
        "        tkinter.messagebox.showwarning(\"Warning\", \"Please enter a sentence and select an output language.\")\n",
        "\n",
        "# Supported languages\n",
        "languages = \"af, ar, bg, bn, ca, cs, cy, da, de, el, en, es, et, fa, fi, fr, gu, he, hi, hr, hu, id, it, ja, kn, ko, lt, lv, mk, ml, mr, ne, nl, no, pa, pl, pt, ro, ru, sk, sl, so, sq, sv, sw, ta, te, th, tl, tr, uk, ur, vi, zh-cn, zh-tw\"\n",
        "\n",
        "# Initializing the main window\n",
        "root = tk.Tk()\n",
        "root.title(\"Language Translator\")\n",
        "root.geometry(\"700x500\")\n",
        "root.resizable(False, False)\n",
        "\n",
        "\n",
        "# Setting styles\n",
        "style = ttk.Style(root)\n",
        "style.configure('TLabel', font=('Helvetica', 10))\n",
        "style.configure('TButton', font=('Helvetica', 10))\n",
        "style.configure('TEntry', font=('Helvetica', 10))\n",
        "style.configure('TText', font=('Helvetica', 10))\n",
        "\n",
        "# Main Frame\n",
        "main_frame = ttk.Frame(root, padding=\"10 10 10 10\")\n",
        "main_frame.grid(row=0, column=0, sticky=(tk.W, tk.E, tk.N, tk.S))\n",
        "\n",
        "# Input Text\n",
        "input_label = ttk.Label(main_frame, text=\"Input Text:\")\n",
        "input_label.grid(row=0, column=0, padx=10, pady=5, sticky=tk.W)\n",
        "input_text = tk.Text(main_frame, height=6, width=50, font=('Helvetica', 10))\n",
        "input_text.grid(row=1, column=0, padx=10, pady=5, columnspan=2, sticky=(tk.W, tk.E))\n",
        "\n",
        "# Detecting Language Button \n",
        "detect_button = ttk.Button(main_frame, text=\"Detect Language\", command=detect_language)\n",
        "detect_button.grid(row=2, column=0, padx=10, pady=5, sticky=tk.W)\n",
        "\n",
        "# Detected Language displayed\n",
        "detected_lang = tk.StringVar()\n",
        "detected_lang_label = ttk.Label(main_frame, text=\"Detected Language:\")\n",
        "detected_lang_label.grid(row=2, column=1, padx=10, pady=5, sticky=tk.W)\n",
        "detected_lang_value = ttk.Label(main_frame, textvariable=detected_lang, foreground=\"blue\")\n",
        "detected_lang_value.grid(row=2, column=1, padx=10, pady=5, sticky=tk.E)\n",
        "\n",
        "# Output Language \n",
        "output_lang_label = ttk.Label(main_frame, text=\"Output Language:\")\n",
        "output_lang_label.grid(row=3, column=0, padx=10, pady=5, sticky=tk.W)\n",
        "output_lang = tk.StringVar()\n",
        "output_lang_entry = ttk.Entry(main_frame, textvariable=output_lang)\n",
        "output_lang_entry.grid(row=3, column=1, padx=10, pady=5, sticky=(tk.W, tk.E))\n",
        "\n",
        "# Translate Button\n",
        "translate_button = ttk.Button(main_frame, text=\"Translate\", command=translate_text)\n",
        "translate_button.grid(row=4, column=0, padx=10, pady=10, sticky=tk.W)\n",
        "\n",
        "# Output Text\n",
        "output_label = ttk.Label(main_frame, text=\"Translated Text:\")\n",
        "output_label.grid(row=5, column=0, padx=10, pady=5, sticky=tk.W)\n",
        "output_text = tk.StringVar()\n",
        "output_text_label = ttk.Label(main_frame, textvariable=output_text, foreground=\"green\", wraplength=400)\n",
        "output_text_label.grid(row=6, column=0, padx=10, pady=5, columnspan=2, sticky=(tk.W, tk.E))\n",
        "\n",
        "# Supported Languages\n",
        "supported_langs_label = ttk.Label(main_frame, text=\"Supported Languages:\")\n",
        "supported_langs_label.grid(row=7, column=0, padx=10, pady=5, sticky=tk.W)\n",
        "supported_langs_value = ttk.Label(main_frame, text=languages, wraplength=400, foreground=\"red\")\n",
        "supported_langs_value.grid(row=8, column=0, padx=10, pady=5, columnspan=2, sticky=(tk.W, tk.E))\n",
        "\n",
        "root.mainloop()"
      ]
    },
    {
      "cell_type": "code",
      "execution_count": null,
      "metadata": {},
      "outputs": [],
      "source": []
    }
  ],
  "metadata": {
    "colab": {
      "provenance": []
    },
    "kernelspec": {
      "display_name": "base",
      "language": "python",
      "name": "python3"
    },
    "language_info": {
      "codemirror_mode": {
        "name": "ipython",
        "version": 3
      },
      "file_extension": ".py",
      "mimetype": "text/x-python",
      "name": "python",
      "nbconvert_exporter": "python",
      "pygments_lexer": "ipython3",
      "version": "3.11.5"
    }
  },
  "nbformat": 4,
  "nbformat_minor": 0
}
